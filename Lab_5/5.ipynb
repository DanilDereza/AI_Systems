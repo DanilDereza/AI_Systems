{
 "cells": [
  {
   "cell_type": "code",
   "execution_count": 1,
   "id": "2bb39ccd",
   "metadata": {},
   "outputs": [],
   "source": [
    "import pandas as pd\n",
    "import numpy as np\n",
    "import optuna\n",
    "import time\n",
    "import warnings\n",
    "from sklearn.ensemble import RandomForestClassifier\n",
    "from xgboost import XGBClassifier\n",
    "from sklearn.model_selection import GridSearchCV, RandomizedSearchCV\n",
    "from sklearn.metrics import accuracy_score\n",
    "from tqdm import tqdm\n",
    "\n",
    "\n",
    "warnings.filterwarnings('ignore')\n",
    "optuna.logging.set_verbosity(optuna.logging.WARNING)"
   ]
  },
  {
   "cell_type": "code",
   "execution_count": 2,
   "id": "b4110c15",
   "metadata": {},
   "outputs": [],
   "source": [
    "train = pd.read_excel(\"data/train_prepared.xlsx\", index_col=0)\n",
    "test = pd.read_excel(\"data/test_prepared.xlsx\", index_col=0)\n",
    "\n",
    "x_train = train.drop(columns=['Transported'])\n",
    "y_train = train[['Transported']]\n",
    "\n",
    "x_test = test.drop(columns=['Transported'])\n",
    "y_test = test[['Transported']]"
   ]
  },
  {
   "cell_type": "markdown",
   "id": "f29b2f5f",
   "metadata": {},
   "source": [
    "### <center>RandomizedSearchCV on RandomForestClassifier"
   ]
  },
  {
   "cell_type": "code",
   "execution_count": 3,
   "id": "004693f7",
   "metadata": {},
   "outputs": [
    {
     "name": "stdout",
     "output_type": "stream",
     "text": [
      "Fitting 3 folds for each of 768 candidates, totalling 2304 fits\n",
      "Best hyperparameters:\n",
      "n_estimators = 700\n",
      "min_samples_split = 4\n",
      "min_samples_leaf = 1\n",
      "max_features = 5\n",
      "max_depth = None\n",
      "criterion = gini\n",
      "class_weight = {0: 1, 1: 0.01}\n",
      "\n",
      "Best Accuracy value: 0.767284425739199\n",
      "Search took 12 minutes and 48 seconds\n"
     ]
    }
   ],
   "source": [
    "rf_clf = RandomForestClassifier(random_state=42)\n",
    "\n",
    "rf_random_params = {\n",
    "    'n_estimators': np.arange(400, 701, 100),\n",
    "    'max_depth': [None] + list(range(5, 51, 5)),\n",
    "    'max_features': list(range(3, 6)),\n",
    "    'criterion': ['gini', 'entropy'],\n",
    "    'min_samples_leaf': list(range(1, 21)),\n",
    "    'min_samples_split': list(range(2, 21)),\n",
    "    'class_weight': [{0: 1, 1: w} for w in np.linspace(0.01, 1, 10)]\n",
    "}\n",
    "\n",
    "\n",
    "rs_rf_start_time = time.time()\n",
    "rs = RandomizedSearchCV(\n",
    "    estimator=rf_clf, \n",
    "    param_distributions=rf_random_params, \n",
    "    n_iter=768, \n",
    "    cv=3, \n",
    "    scoring='accuracy', \n",
    "    n_jobs=-1, \n",
    "    verbose=True, \n",
    "    random_state=42\n",
    ")\n",
    "rs.fit(x_train, y_train)\n",
    "rs_rf_end_time = time.time()\n",
    "rs_rf_seconds = rs_rf_end_time - rs_rf_start_time\n",
    "\n",
    "print(\"Best hyperparameters:\")\n",
    "for key, value in rs.best_params_.items():\n",
    "    print(f\"{key} = {value}\")\n",
    "print(f\"\\nBest Accuracy value: {rs.best_score_}\")\n",
    "print(f\"Search took {rs_rf_seconds // 60:.0f} minutes and {rs_rf_seconds % 60:.0f} seconds\")"
   ]
  },
  {
   "cell_type": "code",
   "execution_count": 4,
   "id": "5b293ca2",
   "metadata": {},
   "outputs": [
    {
     "name": "stdout",
     "output_type": "stream",
     "text": [
      "Accuracy on test: 0.5770399812953004\n"
     ]
    }
   ],
   "source": [
    "rf_clf_rs = rs.best_estimator_\n",
    "\n",
    "rf_clf_rs.fit(x_train, y_train)\n",
    "\n",
    "rf_clf_rs_pred = rf_clf_rs.predict(x_test)\n",
    "print(f\"Accuracy on test: {accuracy_score(y_test, rf_clf_rs_pred)}\")"
   ]
  },
  {
   "cell_type": "markdown",
   "id": "21257648",
   "metadata": {},
   "source": [
    "### <center>GridSearchCV on RandomForestClassifier"
   ]
  },
  {
   "cell_type": "code",
   "execution_count": 5,
   "id": "76999905",
   "metadata": {
    "scrolled": true
   },
   "outputs": [
    {
     "name": "stdout",
     "output_type": "stream",
     "text": [
      "Fitting 3 folds for each of 768 candidates, totalling 2304 fits\n",
      "Best hyperparameters:\n",
      "class_weight = {0: 1, 1: 0.3}\n",
      "criterion = gini\n",
      "max_depth = 15\n",
      "max_features = 5\n",
      "min_samples_leaf = 8\n",
      "min_samples_split = 18\n",
      "n_estimators = 400\n",
      "\n",
      "Best Accuracy value: 0.7441673358738989\n",
      "Search took 12 minutes and 23 seconds\n"
     ]
    }
   ],
   "source": [
    "rf_grid_params = {\n",
    "    'n_estimators': np.arange(400, 701, 100),\n",
    "    'max_depth': list(range(15, 26, 5)) + [None],\n",
    "    'max_features': range(3, 6),\n",
    "    'criterion': ['gini', 'entropy'],\n",
    "    'min_samples_leaf': np.logspace(3, 4, num=2, base=2, dtype=int), # [8, 16]\n",
    "    'min_samples_split': [10, 18],\n",
    "    'class_weight': [{0: 1, 1: w} for w in [0.1, 0.3]]\n",
    "}\n",
    "\n",
    "gs_rf_start_time = time.time()\n",
    "gs = GridSearchCV(\n",
    "    estimator=rf_clf, \n",
    "    param_grid=rf_grid_params, \n",
    "    cv=3, \n",
    "    scoring='accuracy', \n",
    "    n_jobs=-1, \n",
    "    verbose=True\n",
    ")\n",
    "gs.fit(x_train, y_train)\n",
    "gs_rf_end_time = time.time()\n",
    "gs_rf_seconds = gs_rf_end_time - gs_rf_start_time\n",
    "\n",
    "print(\"Best hyperparameters:\")\n",
    "for key, value in gs.best_params_.items():\n",
    "    print(f\"{key} = {value}\")\n",
    "print(f\"\\nBest Accuracy value: {gs.best_score_}\")\n",
    "print(f\"Search took {gs_rf_seconds // 60:.0f} minutes and {gs_rf_seconds % 60:.0f} seconds\")"
   ]
  },
  {
   "cell_type": "code",
   "execution_count": 6,
   "id": "3eafc13b",
   "metadata": {},
   "outputs": [
    {
     "name": "stdout",
     "output_type": "stream",
     "text": [
      "Accuracy on test: 0.7142857142857143\n"
     ]
    }
   ],
   "source": [
    "rf_clf_gs = gs.best_estimator_\n",
    "\n",
    "rf_clf_gs.fit(x_train, y_train)\n",
    "\n",
    "rf_clf_gs_pred = rf_clf_gs.predict(x_test)\n",
    "print(f\"Accuracy on test: {accuracy_score(y_test, rf_clf_gs_pred)}\")"
   ]
  },
  {
   "cell_type": "markdown",
   "id": "acd23fc4",
   "metadata": {},
   "source": [
    "### <center>Bayesian Optimization on RandomForestClassifier"
   ]
  },
  {
   "cell_type": "code",
   "execution_count": 7,
   "id": "176f22da",
   "metadata": {},
   "outputs": [
    {
     "name": "stderr",
     "output_type": "stream",
     "text": [
      "Optimizing: 100%|███████████████████████████████████████████████████████████████████| 50/50 [01:12<00:00,  1.45s/trial]"
     ]
    },
    {
     "name": "stdout",
     "output_type": "stream",
     "text": [
      "Bayesian Optimization Best Parameters:\n",
      "n_estimators: 700\n",
      "max_depth: None\n",
      "max_features: 4\n",
      "criterion: gini\n",
      "min_samples_leaf: 8\n",
      "min_samples_split: 14\n",
      "class_weight: {0: 1, 1: 0.3}\n",
      "Bayesian Optimization Best Score: 0.7728057057402508\n",
      "Search took 1 minutes and 12 seconds\n"
     ]
    },
    {
     "name": "stderr",
     "output_type": "stream",
     "text": [
      "\n"
     ]
    }
   ],
   "source": [
    "def rf_objective(trial):\n",
    "    n_estimators = trial.suggest_int('n_estimators', 400, 700, step=100)\n",
    "    max_depth = trial.suggest_categorical('max_depth', [None] + list(range(15, 36, 5)))\n",
    "    max_features = trial.suggest_int('max_features', 3, 5)\n",
    "    criterion = trial.suggest_categorical('criterion', ['gini', 'entropy'])\n",
    "    min_samples_leaf = trial.suggest_int('min_samples_leaf', 8, 20)\n",
    "    min_samples_split = trial.suggest_int('min_samples_split', 8, 20)\n",
    "    class_weight = trial.suggest_categorical('class_weight', [{0: 1, 1: w} for w in np.linspace(0.1, 0.3, 5)])\n",
    "\n",
    "    model = RandomForestClassifier(\n",
    "        n_estimators=n_estimators,\n",
    "        max_depth=max_depth,\n",
    "        max_features=max_features,\n",
    "        criterion=criterion,\n",
    "        min_samples_split=min_samples_split,\n",
    "        min_samples_leaf=min_samples_leaf,\n",
    "        class_weight=class_weight,\n",
    "        n_jobs=-1,\n",
    "        random_state=42\n",
    "    )\n",
    "\n",
    "    model.fit(x_train, y_train)\n",
    "    model_pred = model.predict(x_train)\n",
    "    return accuracy_score(y_train, model_pred)\n",
    "\n",
    "\n",
    "n_trials = 50\n",
    "with tqdm(total=n_trials, desc=\"Optimizing\", unit=\"trial\") as pbar:\n",
    "    def tqdm_callback(study, trial):\n",
    "        pbar.update(1)\n",
    "\n",
    "    rf_study = optuna.create_study(direction='maximize')\n",
    "    bayes_rf_start_time = time.time()\n",
    "    rf_study.optimize(rf_objective, n_trials=n_trials, callbacks=[tqdm_callback])\n",
    "    bayes_rf_end_time = time.time()\n",
    "    bayes_rf_seconds = bayes_rf_end_time - bayes_rf_start_time\n",
    "    pbar.close()\n",
    "    \n",
    "\n",
    "print(\"Bayesian Optimization Best Parameters:\")\n",
    "for key, value in rf_study.best_params.items():\n",
    "    print(f\"{key}: {value}\")\n",
    "print(f\"Bayesian Optimization Best Score: {rf_study.best_value}\")\n",
    "print(f\"Search took {bayes_rf_seconds // 60:.0f} minutes and {bayes_rf_seconds % 60:.0f} seconds\")"
   ]
  },
  {
   "cell_type": "code",
   "execution_count": 8,
   "id": "6ed226ee",
   "metadata": {},
   "outputs": [
    {
     "name": "stdout",
     "output_type": "stream",
     "text": [
      "Accuracy on test: 0.7278466214636428\n"
     ]
    }
   ],
   "source": [
    "rf_clf_bayes = RandomForestClassifier(\n",
    "    **rf_study.best_params,\n",
    "    random_state=42\n",
    ")\n",
    "\n",
    "rf_clf_bayes.fit(x_train, y_train)\n",
    "rf_clf_bayes_pred = rf_clf_bayes.predict(x_test)\n",
    "print(f\"Accuracy on test: {accuracy_score(y_test, rf_clf_bayes_pred)}\")"
   ]
  },
  {
   "cell_type": "markdown",
   "id": "6b97abd9",
   "metadata": {},
   "source": [
    "### <center>RandomizedSearchCV on XGBoostClassifier"
   ]
  },
  {
   "cell_type": "code",
   "execution_count": 9,
   "id": "d881c091",
   "metadata": {},
   "outputs": [
    {
     "name": "stdout",
     "output_type": "stream",
     "text": [
      "Fitting 3 folds for each of 1536 candidates, totalling 4608 fits\n",
      "Best hyperparameters:\n",
      "subsample = 1\n",
      "scale_pos_weight = 0.5\n",
      "reg_lambda = 3.0\n",
      "reg_alpha = 3.0\n",
      "n_estimators = 700\n",
      "min_child_weight = 4\n",
      "max_depth = 11\n",
      "learning_rate = 0.07\n",
      "gamma = 1.0666666666666667\n",
      "colsample_bytree = 1\n",
      "\n",
      "Best Accuracy value: 0.7379578630122672\n",
      "Search took 5 minutes and 35 seconds\n"
     ]
    }
   ],
   "source": [
    "xgb_clf = XGBClassifier(eval_metric='logloss', random_state=42)\n",
    "\n",
    "xgb_random_params = {\n",
    "    'n_estimators': np.arange(400, 701, 100),\n",
    "    'max_depth': list(range(3, 16, 2)),\n",
    "    'learning_rate': np.linspace(0.01, 0.1, 10),\n",
    "    'subsample': [1],\n",
    "    'colsample_bytree': [1],\n",
    "    'gamma': np.linspace(0, 1.2, 10),\n",
    "    'min_child_weight': np.arange(1, 10, 1),\n",
    "    'scale_pos_weight': np.linspace(0.2, 0.5, 10),\n",
    "    'reg_alpha': np.linspace(3, 8, 5),\n",
    "    'reg_lambda': np.linspace(3, 8, 5)\n",
    "}\n",
    "\n",
    "rs_xgb_start_time = time.time()\n",
    "rs = RandomizedSearchCV(\n",
    "    estimator=xgb_clf,\n",
    "    param_distributions=xgb_random_params,\n",
    "    n_iter=1536,\n",
    "    cv=3,\n",
    "    scoring='accuracy',\n",
    "    n_jobs=-1,\n",
    "    verbose=True,\n",
    "    random_state=42\n",
    ")\n",
    "rs.fit(x_train, y_train)\n",
    "rs_xgb_end_time = time.time()\n",
    "rs_xgb_seconds = rs_xgb_end_time - rs_xgb_start_time\n",
    "\n",
    "\n",
    "print(\"Best hyperparameters:\")\n",
    "for key, value in rs.best_params_.items():\n",
    "    print(f\"{key} = {value}\")\n",
    "print(f\"\\nBest Accuracy value: {rs.best_score_}\")\n",
    "print(f\"Search took {rs_xgb_seconds // 60:.0f} minutes and {rs_xgb_seconds % 60:.0f} seconds\")"
   ]
  },
  {
   "cell_type": "code",
   "execution_count": 10,
   "id": "ba1be5ca",
   "metadata": {},
   "outputs": [
    {
     "name": "stdout",
     "output_type": "stream",
     "text": [
      "Accuracy on test: 0.6427402384849193\n"
     ]
    }
   ],
   "source": [
    "xgb_clf_rs = rs.best_estimator_\n",
    "xgb_clf_rs.fit(x_train, y_train)\n",
    "xgb_clf_rs_pred = xgb_clf_rs.predict(x_test)\n",
    "print(f\"Accuracy on test: {accuracy_score(y_test, xgb_clf_rs_pred)}\")"
   ]
  },
  {
   "cell_type": "markdown",
   "id": "b2a3850c",
   "metadata": {},
   "source": [
    "### <center>GridSearchCV on XGBoostClassifier"
   ]
  },
  {
   "cell_type": "code",
   "execution_count": 11,
   "id": "ffc07fde",
   "metadata": {},
   "outputs": [
    {
     "name": "stdout",
     "output_type": "stream",
     "text": [
      "Fitting 3 folds for each of 1536 candidates, totalling 4608 fits\n",
      "Best hyperparameters:\n",
      "colsample_bytree = 1\n",
      "gamma = 1.2000000000000002\n",
      "learning_rate = 0.30000000000000004\n",
      "max_depth = 10\n",
      "min_child_weight = 5\n",
      "n_estimattors = 400\n",
      "reg_alpha = 6\n",
      "reg_lambda = 5\n",
      "scale_pos_weight = 0.4\n",
      "subsample = 1\n",
      "\n",
      "Best Accuracy value: 0.6978145212450566\n",
      "Search took 1 minutes and 23 seconds\n"
     ]
    }
   ],
   "source": [
    "xgb_grid_params = {\n",
    "    'n_estimattors': np.arange(400, 701, 100),\n",
    "    'max_depth': np.arange(7, 16, 3),\n",
    "    'learning_rate': np.arange(0.1, 0.4, 0.2),\n",
    "    'subsample': [1],\n",
    "    'colsample_bytree': [1],\n",
    "    'gamma': np.arange(1, 1.3, 0.1),\n",
    "    'min_child_weight': np.arange(5, 9, 2),\n",
    "    'scale_pos_weight': np.arange(0.2, 0.6, 0.2),\n",
    "    'reg_alpha': np.arange(6, 8, 1),\n",
    "    'reg_lambda': np.arange(5, 7, 1)\n",
    "}\n",
    "gs_xgb_start_time = time.time()\n",
    "gs = GridSearchCV(\n",
    "    estimator=xgb_clf,\n",
    "    param_grid=xgb_grid_params,\n",
    "    cv=3,\n",
    "    scoring='accuracy',\n",
    "    n_jobs=-1,\n",
    "    verbose=True\n",
    ")\n",
    "gs.fit(x_train, y_train)\n",
    "gs_xgb_end_time = time.time()\n",
    "gs_xgb_seconds = gs_xgb_end_time - gs_xgb_start_time\n",
    "\n",
    "print(\"Best hyperparameters:\")\n",
    "for key, value in gs.best_params_.items():\n",
    "    print(f\"{key} = {value}\")\n",
    "print(f\"\\nBest Accuracy value: {gs.best_score_}\")\n",
    "print(f\"Search took {gs_xgb_seconds // 60:.0f} minutes and {gs_xgb_seconds % 60:.0f} seconds\")"
   ]
  },
  {
   "cell_type": "code",
   "execution_count": 12,
   "id": "2608544b",
   "metadata": {},
   "outputs": [
    {
     "name": "stdout",
     "output_type": "stream",
     "text": [
      "Accuracy on test: 0.6750058452186112\n"
     ]
    }
   ],
   "source": [
    "xgb_clf_gs = gs.best_estimator_\n",
    "xgb_clf_gs.fit(x_train, y_train)\n",
    "xgb_clf_gs_pred = xgb_clf_gs.predict(x_test)\n",
    "print(f\"Accuracy on test: {accuracy_score(y_test, xgb_clf_gs_pred)}\")"
   ]
  },
  {
   "cell_type": "markdown",
   "id": "8624c701",
   "metadata": {},
   "source": [
    "### <center>Bayesian Optimization on XGBoostClassifier"
   ]
  },
  {
   "cell_type": "code",
   "execution_count": 13,
   "id": "da8528c3",
   "metadata": {},
   "outputs": [
    {
     "name": "stderr",
     "output_type": "stream",
     "text": [
      "Optimizing: 100%|███████████████████████████████████████████████████████████████████| 50/50 [00:20<00:00,  2.50trial/s]"
     ]
    },
    {
     "name": "stdout",
     "output_type": "stream",
     "text": [
      "Bayesian Optimization Best Parameters:\n",
      "n_estimators: 700\n",
      "max_depth: 11\n",
      "learning_rate: 0.5\n",
      "subsample: 1.0\n",
      "colsample_bytree: 1.0\n",
      "gamma: 1.3\n",
      "min_child_weight: 6\n",
      "scale_pos_weight: 0.2\n",
      "reg_alpha: 7.4\n",
      "reg_lambda: 5.5\n",
      "Bayesian Optimization Best Score: 0.7524444955711492\n",
      "Search took 0 minutes and 20 seconds\n"
     ]
    },
    {
     "name": "stderr",
     "output_type": "stream",
     "text": [
      "\n"
     ]
    }
   ],
   "source": [
    "def xgb_objective(trial):\n",
    "    n_estimators = trial.suggest_int('n_estimators', 400, 700, step=100)\n",
    "    max_depth = trial.suggest_int('max_depth', 10, 20, step=1)\n",
    "    learning_rate = trial.suggest_float('learning_rate', 0.01, 0.5, step=0.01)\n",
    "    subsample = trial.suggest_float('subsample', 0.9, 1.0, step=0.1)\n",
    "    colsample_bytree = trial.suggest_float('colsample_bytree', 0.9, 1.0, step=0.1)\n",
    "    gamma = trial.suggest_float('gamma', 1.2, 1.9, step=0.1)\n",
    "    min_child_weight = trial.suggest_int('min_child_weight', 5, 10)\n",
    "    scale_pos_weight = trial.suggest_float('scale_pos_weight', 0.15, 0.22, step=0.05)\n",
    "    reg_alpha = trial.suggest_float('reg_alpha', 7, 15, step=0.2)\n",
    "    reg_lambda = trial.suggest_float('reg_lambda', 5, 8, step=0.5)\n",
    "\n",
    "    model = XGBClassifier(\n",
    "        n_estimators=n_estimators,\n",
    "        max_depth=max_depth,\n",
    "        learning_rate=learning_rate,\n",
    "        subsample=subsample,\n",
    "        colsample_bytree=colsample_bytree,\n",
    "        gamma=gamma,\n",
    "        min_child_weight=min_child_weight,\n",
    "        scale_pos_weight=scale_pos_weight,\n",
    "        reg_alpha=reg_alpha,\n",
    "        reg_lambda=reg_lambda,\n",
    "        use_label_encoder=False,\n",
    "        eval_metric='logloss',\n",
    "        n_jobs=-1,\n",
    "        random_state=42\n",
    "    )\n",
    "\n",
    "    model.fit(x_train, y_train)\n",
    "    model_pred = model.predict(x_train)\n",
    "    return accuracy_score(y_train, model_pred)\n",
    "\n",
    "\n",
    "n_trials = 50\n",
    "with tqdm(total=n_trials, desc=\"Optimizing\", unit=\"trial\") as pbar:\n",
    "    def tqdm_callback(study, trial):\n",
    "        pbar.update(1)\n",
    "\n",
    "    xgb_study = optuna.create_study(direction='maximize')\n",
    "    bayes_xgb_start_time = time.time()\n",
    "    xgb_study.optimize(xgb_objective, n_trials=n_trials, callbacks=[tqdm_callback])\n",
    "    bayes_xgb_end_time = time.time()\n",
    "    bayes_xgb_seconds = bayes_xgb_end_time - bayes_xgb_start_time\n",
    "    pbar.close()\n",
    "\n",
    "\n",
    "print(\"Bayesian Optimization Best Parameters:\")\n",
    "for key, value in xgb_study.best_params.items():\n",
    "    print(f\"{key}: {value}\")\n",
    "print(f\"Bayesian Optimization Best Score: {xgb_study.best_value}\")\n",
    "print(f\"Search took {bayes_xgb_seconds // 60:.0f} minutes and {bayes_xgb_seconds % 60:.0f} seconds\")"
   ]
  },
  {
   "cell_type": "code",
   "execution_count": 14,
   "id": "ec9b6c55",
   "metadata": {},
   "outputs": [
    {
     "name": "stdout",
     "output_type": "stream",
     "text": [
      "Accuracy on test: 0.729249473930325\n"
     ]
    }
   ],
   "source": [
    "xgb_clf_bayes = XGBClassifier(\n",
    "    **xgb_study.best_params,\n",
    "    random_state=42\n",
    ")\n",
    "\n",
    "xgb_clf_bayes.fit(x_train, y_train)\n",
    "xgb_clf_bayes_pred = xgb_clf_bayes.predict(x_test)\n",
    "print(f\"Accuracy on test: {accuracy_score(y_test, xgb_clf_bayes_pred)}\")"
   ]
  },
  {
   "cell_type": "code",
   "execution_count": 15,
   "id": "92aed44c",
   "metadata": {},
   "outputs": [
    {
     "name": "stdout",
     "output_type": "stream",
     "text": [
      "Time spent on RandomizedSearchCV for RandomForestClassifier: 767.6952238082886 seconds\n",
      "Time spent on GridSearchCV for RandomForestClassifier: 743.2279887199402 seconds\n",
      "Time spent on Bayesian Optimization for RandomForestClassifier: 72.44222092628479 seconds\n",
      "Time spent on RandomizedSearchCV for XGBoostClassifier: 335.03100514411926 seconds\n",
      "Time spent on GridSearchCV for XGBoostClassifier: 83.3002302646637 seconds\n",
      "Time spent on Bayesian Optimization for XGBoostClassifier: 20.032005310058594 seconds\n"
     ]
    }
   ],
   "source": [
    "print(f\"Time spent on RandomizedSearchCV for RandomForestClassifier: {rs_rf_seconds} seconds\")\n",
    "print(f\"Time spent on GridSearchCV for RandomForestClassifier: {gs_rf_seconds} seconds\")\n",
    "print(f\"Time spent on Bayesian Optimization for RandomForestClassifier: {bayes_rf_seconds} seconds\")\n",
    "print(f\"Time spent on RandomizedSearchCV for XGBoostClassifier: {rs_xgb_seconds} seconds\")\n",
    "print(f\"Time spent on GridSearchCV for XGBoostClassifier: {gs_xgb_seconds} seconds\")\n",
    "print(f\"Time spent on Bayesian Optimization for XGBoostClassifier: {bayes_xgb_seconds} seconds\")"
   ]
  }
 ],
 "metadata": {
  "kernelspec": {
   "display_name": "Python [conda env:base] *",
   "language": "python",
   "name": "conda-base-py"
  },
  "language_info": {
   "codemirror_mode": {
    "name": "ipython",
    "version": 3
   },
   "file_extension": ".py",
   "mimetype": "text/x-python",
   "name": "python",
   "nbconvert_exporter": "python",
   "pygments_lexer": "ipython3",
   "version": "3.12.7"
  }
 },
 "nbformat": 4,
 "nbformat_minor": 5
}
